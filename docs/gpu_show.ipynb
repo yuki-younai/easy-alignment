{
 "cells": [
  {
   "cell_type": "code",
   "execution_count": null,
   "metadata": {},
   "outputs": [
    {
     "name": "stdout",
     "output_type": "stream",
     "text": [
      "CUDA is available\n",
      "Number of available GPUs: 8\n",
      "Current GPU: NVIDIA A800-SXM4-80GB\n",
      "GPU 0: 0 bytes of memory allocated, 0 bytes reserved\n",
      "GPU 1: 0 bytes of memory allocated, 0 bytes reserved\n",
      "GPU 2: 0 bytes of memory allocated, 0 bytes reserved\n",
      "GPU 3: 0 bytes of memory allocated, 0 bytes reserved\n",
      "GPU 4: 0 bytes of memory allocated, 0 bytes reserved\n",
      "GPU 5: 0 bytes of memory allocated, 0 bytes reserved\n",
      "GPU 6: 0 bytes of memory allocated, 0 bytes reserved\n",
      "GPU 7: 0 bytes of memory allocated, 0 bytes reserved\n",
      "Current GPU memory usage: 0 bytes allocated, 0 bytes reserved\n",
      "Is GPU free: True\n"
     ]
    },
    {
     "name": "stderr",
     "output_type": "stream",
     "text": [
      "/data/gwy/miniconda3/envs/openr1/lib/python3.11/site-packages/torch/cuda/__init__.py:654: UserWarning: Can't initialize NVML\n",
      "  warnings.warn(\"Can't initialize NVML\")\n"
     ]
    }
   ],
   "source": [
    "import torch\n",
    "# 检查CUDA是否可用\n",
    "if torch.cuda.is_available():\n",
    "    print(\"CUDA is available\")\n",
    "else:\n",
    "    print(\"CUDA is not available\")\n",
    "# 获取GPU数量\n",
    "num_gpus = torch.cuda.device_count()\n",
    "print(f\"Number of available GPUs: {num_gpus}\")\n",
    "# 获取当前GPU的名称\n",
    "current_device = torch.cuda.current_device()\n",
    "print(f\"Current GPU: {torch.cuda.get_device_name(current_device)}\")\n",
    "# 获取每个GPU的内存使用情况\n",
    "for i in range(num_gpus):\n",
    "    print(f\"GPU {i}: {torch.cuda.memory_allocated(i)} bytes of memory allocated, {torch.cuda.memory_reserved(i)} bytes reserved\")\n",
    "# 获取当前GPU的内存使用情况\n",
    "print(f\"Current GPU memory usage: {torch.cuda.memory_allocated()} bytes allocated, {torch.cuda.memory_reserved()} bytes reserved\") \n",
    "# 检查GPU是否空闲 \n",
    "print(f\"Is GPU free: {torch.cuda.is_available() and torch.cuda.memory_allocated() == 0}\")\n"
   ]
  },
  {
   "cell_type": "code",
   "execution_count": null,
   "metadata": {},
   "outputs": [],
   "source": []
  }
 ],
 "metadata": {
  "kernelspec": {
   "display_name": "openr1",
   "language": "python",
   "name": "python3"
  },
  "language_info": {
   "codemirror_mode": {
    "name": "ipython",
    "version": 3
   },
   "file_extension": ".py",
   "mimetype": "text/x-python",
   "name": "python",
   "nbconvert_exporter": "python",
   "pygments_lexer": "ipython3",
   "version": "3.11.11"
  }
 },
 "nbformat": 4,
 "nbformat_minor": 2
}
