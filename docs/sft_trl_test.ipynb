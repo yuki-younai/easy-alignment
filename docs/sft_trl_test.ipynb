{
 "cells": [
  {
   "cell_type": "code",
   "execution_count": 1,
   "metadata": {},
   "outputs": [
    {
     "name": "stderr",
     "output_type": "stream",
     "text": [
      "/data/gwy/miniconda3/envs/openr1/lib/python3.11/site-packages/tqdm/auto.py:21: TqdmWarning: IProgress not found. Please update jupyter and ipywidgets. See https://ipywidgets.readthedocs.io/en/stable/user_install.html\n",
      "  from .autonotebook import tqdm as notebook_tqdm\n",
      "Generating train split: 16710 examples [00:01, 14788.35 examples/s]\n"
     ]
    }
   ],
   "source": [
    "from datasets import load_dataset\n",
    "import torch\n",
    "import torch.nn as nn\n",
    "import transformers\n",
    "from accelerate import PartialState\n",
    "from datasets import Dataset, IterableDataset\n",
    "from transformers import AutoTokenizer, AutoModelForCausalLM\n",
    "import torch\n",
    "local_ranks = 0\n",
    "\n",
    "model_path = \"/data/public/model/Qwen2.5-1.5B-Instruct\"\n",
    "\n",
    "tokenizer = AutoTokenizer.from_pretrained(model_path)\n",
    "# model = AutoModelForCausalLM.from_pretrained(model_path, torch_dtype=torch.bfloat16)\n",
    "# model.to(local_ranks)\n",
    "ds= load_dataset(\"/data/gwy/datasets/Bespoke-Stratos-17k\")['train']\n"
   ]
  },
  {
   "cell_type": "code",
   "execution_count": 2,
   "metadata": {},
   "outputs": [
    {
     "name": "stdout",
     "output_type": "stream",
     "text": [
      "['prompt1', 'prompt2', 'prompt3', 'prompt4', 'prompt5', 'prompt6', 'prompt7', 'prompt8', 'prompt9', 'prompt10']\n"
     ]
    }
   ],
   "source": [
    "# 假设我们有一个列表，包含多个提示文本\n",
    "prompts = [\"prompt1\", \"prompt2\", \"prompt3\", \"prompt4\", \"prompt5\", \"prompt6\", \"prompt7\", \"prompt8\", \"prompt9\", \"prompt10\"]\n",
    "\n",
    "# 假设当前进程的索引是0\n",
    "process_index = 0\n",
    "\n",
    "# 创建一个slice对象\n",
    "process_slice = slice(\n",
    "    process_index * len(prompts),\n",
    "    (process_index + 1) * len(prompts),\n",
    ")\n",
    "\n",
    "# 使用slice对象来选择列表中的一部分\n",
    "selected_prompts = prompts[process_slice]\n",
    "\n",
    "# 打印选择的提示文本\n",
    "print(selected_prompts)\n"
   ]
  },
  {
   "cell_type": "code",
   "execution_count": 3,
   "metadata": {},
   "outputs": [
    {
     "data": {
      "text/plain": [
       "{'system': \"Your role as an assistant involves thoroughly exploring questions through a systematic long thinking process before providing the final precise and accurate solutions. This requires engaging in a comprehensive cycle of analysis, summarizing, exploration, reassessment, reflection, backtracing, and iteration to develop well-considered thinking process. Please structure your response into two main sections: Thought and Solution. In the Thought section, detail your reasoning process using the specified format: <|begin_of_thought|> {thought with steps separated with '\\\\n\\\\n'} <|end_of_thought|> Each step should include detailed considerations such as analisying questions, summarizing relevant findings, brainstorming new ideas, verifying the accuracy of the current steps, refining any errors, and revisiting previous steps. In the Solution section, based on various attempts, explorations, and reflections from the Thought section, systematically present the final solution that you deem correct. The solution should remain a logical, accurate, concise expression style and detail necessary step needed to reach the conclusion, formatted as follows: <|begin_of_solution|> {final formatted, precise, and clear solution} <|end_of_solution|> Now, try to solve the following question through the above guidelines:\",\n",
       " 'conversations': [{'from': 'user',\n",
       "   'value': 'Return your final response within \\\\boxed{}. The operation $\\\\otimes$ is defined for all nonzero numbers by $a\\\\otimes b =\\\\frac{a^{2}}{b}$. Determine $[(1\\\\otimes 2)\\\\otimes 3]-[1\\\\otimes (2\\\\otimes 3)]$.\\n$\\\\text{(A)}\\\\ -\\\\frac{2}{3}\\\\qquad\\\\text{(B)}\\\\ -\\\\frac{1}{4}\\\\qquad\\\\text{(C)}\\\\ 0\\\\qquad\\\\text{(D)}\\\\ \\\\frac{1}{4}\\\\qquad\\\\text{(E)}\\\\ \\\\frac{2}{3}$'},\n",
       "  {'from': 'assistant',\n",
       "   'value': \"<|begin_of_thought|>\\n\\nOkay, let me try to figure out this problem. So, we have this operation defined as a⊗b = a²/b. And we need to compute [(1⊗2)⊗3] - [1⊗(2⊗3)]. Then choose the correct answer from the options given. Alright, let's break it down step by step.\\n\\nFirst, I need to remember that the operation ⊗ is not associative, right? Because the problem is asking for the difference between two different groupings: (1⊗2)⊗3 and 1⊗(2⊗3). So, the order in which we perform the operations matters here. That's probably why there's a subtraction between them.\\n\\nLet me start by computing each part separately. Let's tackle the first part: (1⊗2)⊗3.\\n\\nStarting with the innermost operation, which is 1⊗2. According to the definition, a⊗b = a²/b. So here, a is 1 and b is 2. Plugging those in: 1² / 2 = 1/2. So, 1⊗2 equals 1/2.\\n\\nNow, we take that result and perform the next operation with 3. So, (1⊗2)⊗3 becomes (1/2)⊗3. Again, using the same definition: a is now 1/2 and b is 3. So, ( (1/2)² ) / 3 = (1/4) / 3 = 1/12. So, (1⊗2)⊗3 equals 1/12.\\n\\nAlright, that's the first part. Now let's compute the second part: 1⊗(2⊗3). Again, starting with the innermost operation, which is 2⊗3. Applying the definition: a is 2 and b is 3. So, 2² / 3 = 4/3. Therefore, 2⊗3 equals 4/3.\\n\\nNow, we need to compute 1⊗(4/3). Here, a is 1 and b is 4/3. Using the operation definition: 1² / (4/3) = 1 / (4/3) = 3/4. So, 1⊗(2⊗3) equals 3/4.\\n\\nNow, the problem asks for the difference between the two results: [(1⊗2)⊗3] - [1⊗(2⊗3)] = (1/12) - (3/4). To subtract these fractions, they need a common denominator. The denominators are 12 and 4, so 12 is the common denominator.\\n\\nConverting 3/4 to twelfths: 3/4 = 9/12. So, 1/12 - 9/12 = (1 - 9)/12 = -8/12. Simplifying that fraction by dividing numerator and denominator by 4: -8/12 = -2/3.\\n\\nHmm, looking at the answer choices, option A is -2/3. So, is that the answer? Wait, but let me double-check my calculations to make sure I didn't make a mistake somewhere.\\n\\nFirst, checking (1⊗2): 1² / 2 = 1/2. Correct. Then, (1/2)⊗3: (1/2)² / 3 = (1/4)/3 = 1/12. That seems right.\\n\\nNow, for 2⊗3: 2² / 3 = 4/3. Correct. Then, 1⊗(4/3): 1² / (4/3) = 1 / (4/3) = 3/4. Yes, that's correct.\\n\\nSubtracting 3/4 from 1/12: 1/12 - 3/4. Convert 3/4 to 9/12, so 1/12 - 9/12 = -8/12 = -2/3. Yes, that all checks out. So the answer should be -2/3, which is option A.\\n\\nWait, but let me think again. The operation is defined for all nonzero numbers, so we don't have any issues with division by zero here. 2⊗3 is 4/3, which is fine, and then 1⊗(4/3) is 3/4. Correct.\\n\\nAlternatively, maybe there's a different way to approach the problem? Let me try expanding both expressions using variables to see if there's a pattern.\\n\\nLet’s denote the first expression: (a⊗b)⊗c. Using the definition:\\n\\nFirst, compute a⊗b = a²/b.\\n\\nThen, take that result and ⊗ with c: (a²/b)⊗c = ( (a²/b)² ) / c = a⁴ / (b² c).\\n\\nNow, the second expression: a⊗(b⊗c). First compute b⊗c = b²/c.\\n\\nThen, a⊗(b²/c) = a² / (b²/c) = a² * (c / b²) = (a² c) / b².\\n\\nTherefore, the difference between the two expressions is:\\n\\n(a⁴ / (b² c)) - (a² c / b²) = (a⁴ - a² c²) / (b² c) = a² (a² - c²) / (b² c).\\n\\nHmm, factoring that, it's a² (a - c)(a + c) / (b² c).\\n\\nBut in our specific problem, a = 1, b = 2, c = 3. Plugging those values in:\\n\\n1² (1 - 3)(1 + 3) / (2² * 3) = 1 * (-2)(4) / (4 * 3) = (-8) / 12 = -2/3. Same result. So that confirms the answer is indeed -2/3.\\n\\nTherefore, I think my initial calculation was correct, and the answer is option A.\\n\\n**Final Answer**\\n\\\\boxed{A}\\n\\n<|end_of_thought|>\\n\\n<|begin_of_solution|>\\n\\nTo determine the value of \\\\([(1 \\\\otimes 2) \\\\otimes 3] - [1 \\\\otimes (2 \\\\otimes 3)]\\\\) where the operation \\\\(\\\\otimes\\\\) is defined by \\\\(a \\\\otimes b = \\\\frac{a^2}{b}\\\\), we proceed as follows:\\n\\nFirst, compute \\\\(1 \\\\otimes 2\\\\):\\n\\\\[\\n1 \\\\otimes 2 = \\\\frac{1^2}{2} = \\\\frac{1}{2}\\n\\\\]\\nNext, use this result to compute \\\\((1 \\\\otimes 2) \\\\otimes 3\\\\):\\n\\\\[\\n\\\\left(\\\\frac{1}{2}\\\\right) \\\\otimes 3 = \\\\frac{\\\\left(\\\\frac{1}{2}\\\\right)^2}{3} = \\\\frac{\\\\frac{1}{4}}{3} = \\\\frac{1}{12}\\n\\\\]\\n\\nNow, compute \\\\(2 \\\\otimes 3\\\\):\\n\\\\[\\n2 \\\\otimes 3 = \\\\frac{2^2}{3} = \\\\frac{4}{3}\\n\\\\]\\nThen, use this result to compute \\\\(1 \\\\otimes (2 \\\\otimes 3)\\\\):\\n\\\\[\\n1 \\\\otimes \\\\left(\\\\frac{4}{3}\\\\right) = \\\\frac{1^2}{\\\\frac{4}{3}} = \\\\frac{1}{\\\\frac{4}{3}} = \\\\frac{3}{4}\\n\\\\]\\n\\nFinally, find the difference between the two results:\\n\\\\[\\n\\\\frac{1}{12} - \\\\frac{3}{4} = \\\\frac{1}{12} - \\\\frac{9}{12} = \\\\frac{1 - 9}{12} = \\\\frac{-8}{12} = -\\\\frac{2}{3}\\n\\\\]\\n\\nThus, the answer is \\\\(\\\\boxed{A}\\\\).\\n\\n<|end_of_solution|>\"}]}"
      ]
     },
     "execution_count": 3,
     "metadata": {},
     "output_type": "execute_result"
    }
   ],
   "source": [
    "example = ds[0]\n",
    "example"
   ]
  },
  {
   "cell_type": "code",
   "execution_count": 10,
   "metadata": {},
   "outputs": [
    {
     "name": "stderr",
     "output_type": "stream",
     "text": [
      "Map (num_proc=8): 100%|██████████| 16710/16710 [00:01<00:00, 9645.13 examples/s] \n"
     ]
    }
   ],
   "source": [
    "def split_prompt_and_responses_SafeRLHF(examples):\n",
    "    messages = []\n",
    "    for conv in examples['conversations']:\n",
    "        if conv['from']=='user':\n",
    "            messages.append({\"role\":'user', \"content\":conv['value']})\n",
    "        else:\n",
    "            messages.append({\"role\":'assistant', \"content\":conv['value']})\n",
    "\n",
    "    return {\n",
    "        \"messages\": messages ,\n",
    "        \"system\": examples['system']\n",
    "    }\n",
    "ds = ds.map(split_prompt_and_responses_SafeRLHF, remove_columns=ds.column_names, num_proc=8)"
   ]
  },
  {
   "cell_type": "code",
   "execution_count": 13,
   "metadata": {},
   "outputs": [],
   "source": [
    "import json\n",
    "\n",
    "output  = []\n",
    "for data in ds:\n",
    "    output.append(data)"
   ]
  },
  {
   "cell_type": "code",
   "execution_count": 14,
   "metadata": {},
   "outputs": [],
   "source": [
    "with open(\"output.json\", 'w') as file:\n",
    "    json.dump(output, file, indent=4)"
   ]
  },
  {
   "cell_type": "code",
   "execution_count": 15,
   "metadata": {},
   "outputs": [
    {
     "name": "stderr",
     "output_type": "stream",
     "text": [
      "Generating train split: 16710 examples [00:02, 8107.69 examples/s]\n"
     ]
    }
   ],
   "source": [
    "ds= load_dataset(\"output\")"
   ]
  },
  {
   "cell_type": "code",
   "execution_count": 17,
   "metadata": {},
   "outputs": [
    {
     "data": {
      "text/plain": [
       "Dataset({\n",
       "    features: ['system', 'messages'],\n",
       "    num_rows: 16710\n",
       "})"
      ]
     },
     "execution_count": 17,
     "metadata": {},
     "output_type": "execute_result"
    }
   ],
   "source": [
    "ds['train']"
   ]
  },
  {
   "cell_type": "code",
   "execution_count": 36,
   "metadata": {},
   "outputs": [
    {
     "name": "stderr",
     "output_type": "stream",
     "text": [
      "Map (num_proc=6): 100%|██████████| 16710/16710 [00:02<00:00, 7432.97 examples/s] \n"
     ]
    }
   ],
   "source": [
    "from trl.data_utils import is_conversational, maybe_apply_chat_template\n",
    "\n",
    "dataset = ds.map(\n",
    "    maybe_apply_chat_template,\n",
    "    fn_kwargs={\"tokenizer\": tokenizer},\n",
    "    remove_columns=\"messages\" if \"messages\" in ds.column_names else None,  # renamed to \"text\"\n",
    "    num_proc = 6,\n",
    ")"
   ]
  },
  {
   "cell_type": "code",
   "execution_count": 37,
   "metadata": {},
   "outputs": [
    {
     "data": {
      "text/plain": [
       "{'text': \"<|im_start|>system\\nYou are Qwen, created by Alibaba Cloud. You are a helpful assistant.<|im_end|>\\n<|im_start|>user\\nReturn your final response within \\\\boxed{}. The operation $\\\\otimes$ is defined for all nonzero numbers by $a\\\\otimes b =\\\\frac{a^{2}}{b}$. Determine $[(1\\\\otimes 2)\\\\otimes 3]-[1\\\\otimes (2\\\\otimes 3)]$.\\n$\\\\text{(A)}\\\\ -\\\\frac{2}{3}\\\\qquad\\\\text{(B)}\\\\ -\\\\frac{1}{4}\\\\qquad\\\\text{(C)}\\\\ 0\\\\qquad\\\\text{(D)}\\\\ \\\\frac{1}{4}\\\\qquad\\\\text{(E)}\\\\ \\\\frac{2}{3}$<|im_end|>\\n<|im_start|>assistant\\n<|begin_of_thought|>\\n\\nOkay, let me try to figure out this problem. So, we have this operation defined as a⊗b = a²/b. And we need to compute [(1⊗2)⊗3] - [1⊗(2⊗3)]. Then choose the correct answer from the options given. Alright, let's break it down step by step.\\n\\nFirst, I need to remember that the operation ⊗ is not associative, right? Because the problem is asking for the difference between two different groupings: (1⊗2)⊗3 and 1⊗(2⊗3). So, the order in which we perform the operations matters here. That's probably why there's a subtraction between them.\\n\\nLet me start by computing each part separately. Let's tackle the first part: (1⊗2)⊗3.\\n\\nStarting with the innermost operation, which is 1⊗2. According to the definition, a⊗b = a²/b. So here, a is 1 and b is 2. Plugging those in: 1² / 2 = 1/2. So, 1⊗2 equals 1/2.\\n\\nNow, we take that result and perform the next operation with 3. So, (1⊗2)⊗3 becomes (1/2)⊗3. Again, using the same definition: a is now 1/2 and b is 3. So, ( (1/2)² ) / 3 = (1/4) / 3 = 1/12. So, (1⊗2)⊗3 equals 1/12.\\n\\nAlright, that's the first part. Now let's compute the second part: 1⊗(2⊗3). Again, starting with the innermost operation, which is 2⊗3. Applying the definition: a is 2 and b is 3. So, 2² / 3 = 4/3. Therefore, 2⊗3 equals 4/3.\\n\\nNow, we need to compute 1⊗(4/3). Here, a is 1 and b is 4/3. Using the operation definition: 1² / (4/3) = 1 / (4/3) = 3/4. So, 1⊗(2⊗3) equals 3/4.\\n\\nNow, the problem asks for the difference between the two results: [(1⊗2)⊗3] - [1⊗(2⊗3)] = (1/12) - (3/4). To subtract these fractions, they need a common denominator. The denominators are 12 and 4, so 12 is the common denominator.\\n\\nConverting 3/4 to twelfths: 3/4 = 9/12. So, 1/12 - 9/12 = (1 - 9)/12 = -8/12. Simplifying that fraction by dividing numerator and denominator by 4: -8/12 = -2/3.\\n\\nHmm, looking at the answer choices, option A is -2/3. So, is that the answer? Wait, but let me double-check my calculations to make sure I didn't make a mistake somewhere.\\n\\nFirst, checking (1⊗2): 1² / 2 = 1/2. Correct. Then, (1/2)⊗3: (1/2)² / 3 = (1/4)/3 = 1/12. That seems right.\\n\\nNow, for 2⊗3: 2² / 3 = 4/3. Correct. Then, 1⊗(4/3): 1² / (4/3) = 1 / (4/3) = 3/4. Yes, that's correct.\\n\\nSubtracting 3/4 from 1/12: 1/12 - 3/4. Convert 3/4 to 9/12, so 1/12 - 9/12 = -8/12 = -2/3. Yes, that all checks out. So the answer should be -2/3, which is option A.\\n\\nWait, but let me think again. The operation is defined for all nonzero numbers, so we don't have any issues with division by zero here. 2⊗3 is 4/3, which is fine, and then 1⊗(4/3) is 3/4. Correct.\\n\\nAlternatively, maybe there's a different way to approach the problem? Let me try expanding both expressions using variables to see if there's a pattern.\\n\\nLet’s denote the first expression: (a⊗b)⊗c. Using the definition:\\n\\nFirst, compute a⊗b = a²/b.\\n\\nThen, take that result and ⊗ with c: (a²/b)⊗c = ( (a²/b)² ) / c = a⁴ / (b² c).\\n\\nNow, the second expression: a⊗(b⊗c). First compute b⊗c = b²/c.\\n\\nThen, a⊗(b²/c) = a² / (b²/c) = a² * (c / b²) = (a² c) / b².\\n\\nTherefore, the difference between the two expressions is:\\n\\n(a⁴ / (b² c)) - (a² c / b²) = (a⁴ - a² c²) / (b² c) = a² (a² - c²) / (b² c).\\n\\nHmm, factoring that, it's a² (a - c)(a + c) / (b² c).\\n\\nBut in our specific problem, a = 1, b = 2, c = 3. Plugging those values in:\\n\\n1² (1 - 3)(1 + 3) / (2² * 3) = 1 * (-2)(4) / (4 * 3) = (-8) / 12 = -2/3. Same result. So that confirms the answer is indeed -2/3.\\n\\nTherefore, I think my initial calculation was correct, and the answer is option A.\\n\\n**Final Answer**\\n\\\\boxed{A}\\n\\n<|end_of_thought|>\\n\\n<|begin_of_solution|>\\n\\nTo determine the value of \\\\([(1 \\\\otimes 2) \\\\otimes 3] - [1 \\\\otimes (2 \\\\otimes 3)]\\\\) where the operation \\\\(\\\\otimes\\\\) is defined by \\\\(a \\\\otimes b = \\\\frac{a^2}{b}\\\\), we proceed as follows:\\n\\nFirst, compute \\\\(1 \\\\otimes 2\\\\):\\n\\\\[\\n1 \\\\otimes 2 = \\\\frac{1^2}{2} = \\\\frac{1}{2}\\n\\\\]\\nNext, use this result to compute \\\\((1 \\\\otimes 2) \\\\otimes 3\\\\):\\n\\\\[\\n\\\\left(\\\\frac{1}{2}\\\\right) \\\\otimes 3 = \\\\frac{\\\\left(\\\\frac{1}{2}\\\\right)^2}{3} = \\\\frac{\\\\frac{1}{4}}{3} = \\\\frac{1}{12}\\n\\\\]\\n\\nNow, compute \\\\(2 \\\\otimes 3\\\\):\\n\\\\[\\n2 \\\\otimes 3 = \\\\frac{2^2}{3} = \\\\frac{4}{3}\\n\\\\]\\nThen, use this result to compute \\\\(1 \\\\otimes (2 \\\\otimes 3)\\\\):\\n\\\\[\\n1 \\\\otimes \\\\left(\\\\frac{4}{3}\\\\right) = \\\\frac{1^2}{\\\\frac{4}{3}} = \\\\frac{1}{\\\\frac{4}{3}} = \\\\frac{3}{4}\\n\\\\]\\n\\nFinally, find the difference between the two results:\\n\\\\[\\n\\\\frac{1}{12} - \\\\frac{3}{4} = \\\\frac{1}{12} - \\\\frac{9}{12} = \\\\frac{1 - 9}{12} = \\\\frac{-8}{12} = -\\\\frac{2}{3}\\n\\\\]\\n\\nThus, the answer is \\\\(\\\\boxed{A}\\\\).\\n\\n<|end_of_solution|><|im_end|>\\n\"}"
      ]
     },
     "execution_count": 37,
     "metadata": {},
     "output_type": "execute_result"
    }
   ],
   "source": [
    "dataset[0]"
   ]
  }
 ],
 "metadata": {
  "kernelspec": {
   "display_name": "openr1",
   "language": "python",
   "name": "python3"
  },
  "language_info": {
   "codemirror_mode": {
    "name": "ipython",
    "version": 3
   },
   "file_extension": ".py",
   "mimetype": "text/x-python",
   "name": "python",
   "nbconvert_exporter": "python",
   "pygments_lexer": "ipython3",
   "version": "3.11.11"
  }
 },
 "nbformat": 4,
 "nbformat_minor": 2
}
