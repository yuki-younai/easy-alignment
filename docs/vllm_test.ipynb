{
 "cells": [
  {
   "cell_type": "code",
   "execution_count": 1,
   "metadata": {},
   "outputs": [
    {
     "name": "stderr",
     "output_type": "stream",
     "text": [
      "/data/gwy/miniconda3/envs/torch25/lib/python3.11/site-packages/tqdm/auto.py:21: TqdmWarning: IProgress not found. Please update jupyter and ipywidgets. See https://ipywidgets.readthedocs.io/en/stable/user_install.html\n",
      "  from .autonotebook import tqdm as notebook_tqdm\n",
      "2025-03-26 22:25:30,408\tINFO util.py:154 -- Missing packages: ['ipywidgets']. Run `pip install -U ipywidgets`, then restart the notebook server for rich notebook output.\n"
     ]
    },
    {
     "name": "stdout",
     "output_type": "stream",
     "text": [
      "INFO 03-26 22:25:30 utils.py:916] Found nccl from library libnccl.so.2\n",
      "INFO 03-26 22:25:30 pynccl.py:69] vLLM is using nccl==2.21.5\n",
      "INFO 03-26 22:25:31 __init__.py:207] Automatically detected platform cuda.\n"
     ]
    },
    {
     "data": {
      "text/plain": [
       "[[11479,\n",
       "  0,\n",
       "  2585,\n",
       "  1558,\n",
       "  33011,\n",
       "  8147,\n",
       "  7802,\n",
       "  279,\n",
       "  28724,\n",
       "  3661,\n",
       "  315,\n",
       "  264,\n",
       "  6172,\n",
       "  30,\n",
       "  3197,\n",
       "  498],\n",
       " [911,\n",
       "  279,\n",
       "  57221,\n",
       "  315,\n",
       "  35972,\n",
       "  6540,\n",
       "  4362,\n",
       "  311,\n",
       "  11625,\n",
       "  46523,\n",
       "  13,\n",
       "  10869,\n",
       "  25,\n",
       "  362,\n",
       "  19008,\n",
       "  311]]"
      ]
     },
     "execution_count": 1,
     "metadata": {},
     "output_type": "execute_result"
    }
   ],
   "source": [
    "from trl.extras.vllm_client import VLLMClient\n",
    "\n",
    "client = VLLMClient()\n",
    "client.generate([\"Hello, AI!\", \"Tell me a joke\"])"
   ]
  }
 ],
 "metadata": {
  "kernelspec": {
   "display_name": "torch25",
   "language": "python",
   "name": "python3"
  },
  "language_info": {
   "codemirror_mode": {
    "name": "ipython",
    "version": 3
   },
   "file_extension": ".py",
   "mimetype": "text/x-python",
   "name": "python",
   "nbconvert_exporter": "python",
   "pygments_lexer": "ipython3",
   "version": "3.11.0"
  }
 },
 "nbformat": 4,
 "nbformat_minor": 2
}
